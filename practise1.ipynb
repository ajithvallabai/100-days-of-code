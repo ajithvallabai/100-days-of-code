{
  "nbformat": 4,
  "nbformat_minor": 0,
  "metadata": {
    "colab": {
      "name": "practise1.ipynb",
      "version": "0.3.2",
      "provenance": []
    },
    "kernelspec": {
      "name": "python3",
      "display_name": "Python 3"
    },
    "accelerator": "GPU"
  },
  "cells": [
    {
      "cell_type": "markdown",
      "metadata": {
        "id": "view-in-github",
        "colab_type": "text"
      },
      "source": [
        "[View in Colaboratory](https://colab.research.google.com/github/ajithvallabai/100-days-of-code/blob/ajithvallabai-patch-1/practise1.ipynb)"
      ]
    },
    {
      "metadata": {
        "id": "1FZll1AYA22J",
        "colab_type": "code",
        "colab": {
          "base_uri": "https://localhost:8080/",
          "height": 34
        },
        "outputId": "8551e8cc-6fe9-47b8-98bd-d390c279b48e"
      },
      "cell_type": "code",
      "source": [
        "import keras"
      ],
      "execution_count": 1,
      "outputs": [
        {
          "output_type": "stream",
          "text": [
            "Using TensorFlow backend.\n"
          ],
          "name": "stderr"
        }
      ]
    },
    {
      "metadata": {
        "id": "bC3k4Ay9BCAY",
        "colab_type": "code",
        "colab": {}
      },
      "cell_type": "code",
      "source": [
        "import numpy as np \n",
        "from keras.models import Sequential\n",
        "from keras.layers import Dense,Dropout,Activation,Flatten,Add\n",
        "from keras.layers import Convolution2D,MaxPooling2D\n",
        "from keras.utils import np_utils \n",
        "\n",
        "from keras.datasets import mnist"
      ],
      "execution_count": 0,
      "outputs": []
    },
    {
      "metadata": {
        "id": "OjVB_kAYJ6a4",
        "colab_type": "code",
        "colab": {}
      },
      "cell_type": "code",
      "source": [
        ""
      ],
      "execution_count": 0,
      "outputs": []
    },
    {
      "metadata": {
        "id": "VK5AeSbxEGH8",
        "colab_type": "code",
        "colab": {
          "base_uri": "https://localhost:8080/",
          "height": 51
        },
        "outputId": "f072cfc8-931a-45c6-e665-5b23017541c9"
      },
      "cell_type": "code",
      "source": [
        "(X_train,y_train),(X_test,y_test)=mnist.load_data()"
      ],
      "execution_count": 3,
      "outputs": [
        {
          "output_type": "stream",
          "text": [
            "Downloading data from https://s3.amazonaws.com/img-datasets/mnist.npz\n",
            "11493376/11490434 [==============================] - 1s 0us/step\n"
          ],
          "name": "stdout"
        }
      ]
    },
    {
      "metadata": {
        "id": "s6jXNDYtEgso",
        "colab_type": "code",
        "colab": {
          "base_uri": "https://localhost:8080/",
          "height": 34
        },
        "outputId": "8b9dcc7b-b4f8-4168-a213-ac4694465519"
      },
      "cell_type": "code",
      "source": [
        "print(X_train.shape)"
      ],
      "execution_count": 4,
      "outputs": [
        {
          "output_type": "stream",
          "text": [
            "(60000, 28, 28)\n"
          ],
          "name": "stdout"
        }
      ]
    },
    {
      "metadata": {
        "id": "RkBEL-UeEyNf",
        "colab_type": "code",
        "colab": {
          "base_uri": "https://localhost:8080/",
          "height": 282
        },
        "outputId": "3788ec1d-780a-4ea8-8f68-f6e1e9e41b9d"
      },
      "cell_type": "code",
      "source": [
        "from matplotlib import pyplot as plt\n",
        "%matplotlib inline\n",
        "plt.imshow(X_train[0])"
      ],
      "execution_count": 5,
      "outputs": [
        {
          "output_type": "execute_result",
          "data": {
            "text/plain": [
              "<matplotlib.image.AxesImage at 0x7f0187a28630>"
            ]
          },
          "metadata": {
            "tags": []
          },
          "execution_count": 5
        },
        {
          "output_type": "display_data",
          "data": {
            "image/png": "[encoded data removed]",
            "text/plain": [
              "<matplotlib.figure.Figure at 0x7f0187f3b278>"
            ]
          },
          "metadata": {
            "tags": []
          }
        }
      ]
    },
    {
      "metadata": {
        "id": "UdNktYgZIdgO",
        "colab_type": "code",
        "colab": {}
      },
      "cell_type": "code",
      "source": [
        ""
      ],
      "execution_count": 0,
      "outputs": []
    },
    {
      "metadata": {
        "id": "rgU44cLUE_ck",
        "colab_type": "code",
        "colab": {
          "base_uri": "https://localhost:8080/",
          "height": 282
        },
        "outputId": "e29c6ac5-c8bd-426b-a02b-9811302e3dbe"
      },
      "cell_type": "code",
      "source": [
        "plt.imshow(X_train[1])"
      ],
      "execution_count": 6,
      "outputs": [
        {
          "output_type": "execute_result",
          "data": {
            "text/plain": [
              "<matplotlib.image.AxesImage at 0x7f01859b4f98>"
            ]
          },
          "metadata": {
            "tags": []
          },
          "execution_count": 6
        },
        {
          "output_type": "display_data",
          "data": {
            "image/png": "[encoded data removed]",
            "text/plain": [
              "<matplotlib.figure.Figure at 0x7f0187a744a8>"
            ]
          },
          "metadata": {
            "tags": []
          }
        }
      ]
    },
    {
      "metadata": {
        "id": "_BPNvwRoIgZY",
        "colab_type": "code",
        "colab": {
          "base_uri": "https://localhost:8080/",
          "height": 34
        },
        "outputId": "28572dae-4cda-4691-918b-2475d584573f"
      },
      "cell_type": "code",
      "source": [
        "X_train.shape[0]"
      ],
      "execution_count": 7,
      "outputs": [
        {
          "output_type": "execute_result",
          "data": {
            "text/plain": [
              "60000"
            ]
          },
          "metadata": {
            "tags": []
          },
          "execution_count": 7
        }
      ]
    },
    {
      "metadata": {
        "id": "R9Vhyhv0Lj5d",
        "colab_type": "code",
        "colab": {
          "base_uri": "https://localhost:8080/",
          "height": 34
        },
        "outputId": "5967e8c6-dd07-4267-b213-457879b874be"
      },
      "cell_type": "code",
      "source": [
        "X_train.shape[0]\n"
      ],
      "execution_count": 8,
      "outputs": [
        {
          "output_type": "execute_result",
          "data": {
            "text/plain": [
              "60000"
            ]
          },
          "metadata": {
            "tags": []
          },
          "execution_count": 8
        }
      ]
    },
    {
      "metadata": {
        "id": "XZ63qCNdLnpI",
        "colab_type": "code",
        "colab": {
          "base_uri": "https://localhost:8080/",
          "height": 34
        },
        "outputId": "c2231897-3465-44fe-97f3-e46e2115bab7"
      },
      "cell_type": "code",
      "source": [
        "print(\"what are you doing\")"
      ],
      "execution_count": 9,
      "outputs": [
        {
          "output_type": "stream",
          "text": [
            "what are you doing\n"
          ],
          "name": "stdout"
        }
      ]
    },
    {
      "metadata": {
        "id": "eQ8MY4efLySd",
        "colab_type": "code",
        "colab": {}
      },
      "cell_type": "code",
      "source": [
        "X_train=X_train.reshape(X_train.shape[0],28,28,1)\n",
        "X_test=X_test.reshape(X_test.shape[0],28,28,1)"
      ],
      "execution_count": 0,
      "outputs": []
    },
    {
      "metadata": {
        "id": "NPUsEjmbN4mD",
        "colab_type": "code",
        "colab": {
          "base_uri": "https://localhost:8080/",
          "height": 34
        },
        "outputId": "99eed4b3-8e0d-4bd3-8735-61f17a084646"
      },
      "cell_type": "code",
      "source": [
        "X_train.shape"
      ],
      "execution_count": 11,
      "outputs": [
        {
          "output_type": "execute_result",
          "data": {
            "text/plain": [
              "(60000, 28, 28, 1)"
            ]
          },
          "metadata": {
            "tags": []
          },
          "execution_count": 11
        }
      ]
    },
    {
      "metadata": {
        "id": "3b6ARjtrN7pn",
        "colab_type": "code",
        "colab": {}
      },
      "cell_type": "code",
      "source": [
        "X_train=X_train.astype('float32')\n",
        "X_test=X_test.astype('float32')\n",
        "X_train/=255\n",
        "X_test/=255"
      ],
      "execution_count": 0,
      "outputs": []
    },
    {
      "metadata": {
        "id": "OwwqCg0XPqPr",
        "colab_type": "code",
        "colab": {}
      },
      "cell_type": "code",
      "source": [
        "Y_train=np_utils.to_categorical(y_train,10)\n",
        "Y_test=np_utils.to_categorical(y_test,10)"
      ],
      "execution_count": 0,
      "outputs": []
    },
    {
      "metadata": {
        "id": "E1FZTniVRLtM",
        "colab_type": "code",
        "colab": {
          "base_uri": "https://localhost:8080/",
          "height": 360
        },
        "outputId": "b1b984cb-07fd-48b6-d136-d2ba7675bef7"
      },
      "cell_type": "code",
      "source": [
        "model=Sequential()\n",
        "\n",
        "model.add(Convolution2D(32,3,3,activation='relu',input_shape=(28,28,1)))\n",
        "model.add(Dropout(0.4))\n",
        "\n",
        "model.add(Convolution2D(10,26))\n",
        "model.add(Flatten())\n",
        "\n",
        "model.add(Activation('softmax'))\n",
        "model.summary()"
      ],
      "execution_count": 14,
      "outputs": [
        {
          "output_type": "stream",
          "text": [
            "_________________________________________________________________\n",
            "Layer (type)                 Output Shape              Param #   \n",
            "=================================================================\n",
            "conv2d_1 (Conv2D)            (None, 26, 26, 32)        320       \n",
            "_________________________________________________________________\n",
            "dropout_1 (Dropout)          (None, 26, 26, 32)        0         \n",
            "_________________________________________________________________\n",
            "conv2d_2 (Conv2D)            (None, 1, 1, 10)          216330    \n",
            "_________________________________________________________________\n",
            "flatten_1 (Flatten)          (None, 10)                0         \n",
            "_________________________________________________________________\n",
            "activation_1 (Activation)    (None, 10)                0         \n",
            "=================================================================\n",
            "Total params: 216,650\n",
            "Trainable params: 216,650\n",
            "Non-trainable params: 0\n",
            "_________________________________________________________________\n"
          ],
          "name": "stdout"
        },
        {
          "output_type": "stream",
          "text": [
            "/usr/local/lib/python3.6/dist-packages/ipykernel_launcher.py:3: UserWarning: Update your `Conv2D` call to the Keras 2 API: `Conv2D(32, (3, 3), activation=\"relu\", input_shape=(28, 28, 1...)`\n",
            "  This is separate from the ipykernel package so we can avoid doing imports until\n"
          ],
          "name": "stderr"
        }
      ]
    },
    {
      "metadata": {
        "id": "0WcVtT8G_485",
        "colab_type": "code",
        "colab": {}
      },
      "cell_type": "code",
      "source": [
        "model.compile(loss='categorical_crossentropy',optimizer='adam',metrics=['accuracy'])"
      ],
      "execution_count": 0,
      "outputs": []
    },
    {
      "metadata": {
        "id": "wx-S13dSDQwc",
        "colab_type": "code",
        "colab": {
          "base_uri": "https://localhost:8080/",
          "height": 258
        },
        "outputId": "d391e799-4f54-4f94-c301-8bc858f96398"
      },
      "cell_type": "code",
      "source": [
        "model.fit(X_train,Y_train,batch_size=32,nb_epoch=5,verbose=1)"
      ],
      "execution_count": 17,
      "outputs": [
        {
          "output_type": "stream",
          "text": [
            "/usr/local/lib/python3.6/dist-packages/keras/models.py:942: UserWarning: The `nb_epoch` argument in `fit` has been renamed `epochs`.\n",
            "  warnings.warn('The `nb_epoch` argument in `fit` '\n"
          ],
          "name": "stderr"
        },
        {
          "output_type": "stream",
          "text": [
            "Epoch 1/5\n",
            "60000/60000 [==============================] - 21s 344us/step - loss: 0.2011 - acc: 0.9419\n",
            "Epoch 2/5\n",
            "52352/60000 [=========================>....] - ETA: 2s - loss: 0.0869 - acc: 0.9746"
          ],
          "name": "stdout"
        },
        {
          "output_type": "stream",
          "text": [
            "60000/60000 [==============================] - 21s 343us/step - loss: 0.0861 - acc: 0.9747\n",
            "Epoch 3/5\n",
            "60000/60000 [==============================] - 21s 344us/step - loss: 0.0680 - acc: 0.9791\n",
            "Epoch 4/5\n",
            "14208/60000 [======>.......................] - ETA: 15s - loss: 0.0555 - acc: 0.9835"
          ],
          "name": "stdout"
        },
        {
          "output_type": "stream",
          "text": [
            "60000/60000 [==============================] - 21s 344us/step - loss: 0.0567 - acc: 0.9823\n",
            "Epoch 5/5\n",
            "60000/60000 [==============================] - 21s 343us/step - loss: 0.0448 - acc: 0.9859\n"
          ],
          "name": "stdout"
        },
        {
          "output_type": "execute_result",
          "data": {
            "text/plain": [
              "<keras.callbacks.History at 0x7ff29abefcf8>"
            ]
          },
          "metadata": {
            "tags": []
          },
          "execution_count": 17
        }
      ]
    },
    {
      "metadata": {
        "id": "xXaCJ_IkEwzH",
        "colab_type": "code",
        "colab": {
          "base_uri": "https://localhost:8080/",
          "height": 34
        },
        "outputId": "fa8f5983-abf2-41f4-ba1f-4d2b367f825f"
      },
      "cell_type": "code",
      "source": [
        "score=model.evaluate(X_test,Y_test,verbose=0)\n",
        "print(score)"
      ],
      "execution_count": 19,
      "outputs": [
        {
          "output_type": "stream",
          "text": [
            "[0.06036190749621019, 0.9807]\n"
          ],
          "name": "stdout"
        }
      ]
    },
    {
      "metadata": {
        "id": "rfrGhlt0FGA4",
        "colab_type": "code",
        "colab": {
          "base_uri": "https://localhost:8080/",
          "height": 340
        },
        "outputId": "0eb54a88-39c1-4c44-ea00-2b6f0315c2ca"
      },
      "cell_type": "code",
      "source": [
        "y_pred=model.predict(X_test)\n",
        "print(y_pred[:9])\n",
        "print(y_test[:9])"
      ],
      "execution_count": 14,
      "outputs": [
        {
          "output_type": "stream",
          "text": [
            "[[2.2340725e-08 4.5678562e-11 4.7786483e-07 2.1159038e-04 1.2076865e-11\n",
            "  2.9067340e-09 1.9533226e-15 9.9974352e-01 6.2288991e-06 3.8102015e-05]\n",
            " [6.2167646e-06 1.1997256e-06 9.9992883e-01 1.4258701e-06 8.1132974e-13\n",
            "  1.6827810e-08 6.1475708e-05 8.9868976e-15 8.0425099e-07 6.3457963e-12]\n",
            " [6.2804014e-05 9.8769826e-01 1.4214208e-03 8.0406106e-05 3.2117495e-03\n",
            "  6.7829687e-06 2.0649515e-04 1.0216691e-03 6.2519177e-03 3.8582624e-05]\n",
            " [9.9928755e-01 1.2384362e-10 9.5055038e-05 2.3822666e-07 1.9629376e-09\n",
            "  7.7361130e-07 6.1228545e-04 7.3614137e-07 2.4545847e-07 3.0686540e-06]\n",
            " [1.3263327e-06 2.4928490e-09 2.2549514e-07 1.1716193e-06 9.9958211e-01\n",
            "  3.5001443e-10 7.8067771e-08 5.9089989e-06 3.9268234e-06 4.0520905e-04]\n",
            " [1.8249078e-05 9.8408449e-01 3.6098238e-04 6.0099454e-05 2.8871996e-03\n",
            "  5.9911400e-07 1.3353120e-05 5.9876796e-03 6.5024006e-03 8.4865416e-05]\n",
            " [3.7455114e-10 6.8435241e-07 5.5863134e-06 3.2044577e-06 9.5502508e-01\n",
            "  5.0785484e-06 3.2733897e-08 2.5443989e-05 4.0206630e-02 4.7281724e-03]\n",
            " [1.7839997e-09 1.5094412e-06 3.6082752e-06 9.2629743e-05 5.1509580e-03\n",
            "  1.1752832e-03 2.4614971e-07 3.8178334e-07 1.6929954e-03 9.9188238e-01]\n",
            " [3.9220904e-06 3.7669751e-13 1.6609131e-07 7.9480606e-07 6.1680518e-09\n",
            "  9.6643674e-01 3.0197259e-02 1.2944026e-11 3.3597946e-03 1.4358983e-06]]\n",
            "[7 2 1 0 4 1 4 9 5]\n"
          ],
          "name": "stdout"
        }
      ]
    },
    {
      "metadata": {
        "id": "lwhUkHV_J99Z",
        "colab_type": "code",
        "colab": {}
      },
      "cell_type": "code",
      "source": [
        ""
      ],
      "execution_count": 0,
      "outputs": []
    }
  ]
}